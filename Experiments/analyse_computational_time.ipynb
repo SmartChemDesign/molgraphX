{
 "cells": [
  {
   "cell_type": "code",
   "execution_count": 1,
   "id": "c0922f04-2cdd-4f32-b22a-f597abdf3a65",
   "metadata": {},
   "outputs": [],
   "source": [
    "import matplotlib.pyplot as plt\n",
    "import pandas as pd\n",
    "from rdkit import Chem\n",
    "from rdkit.Chem import Descriptors"
   ]
  },
  {
   "cell_type": "code",
   "execution_count": null,
   "id": "4067b036-2fb6-4da0-915c-ddb29b8f55b5",
   "metadata": {},
   "outputs": [],
   "source": [
    "time_df = pd.read_csv(\"../Output/computational_time.csv\")"
   ]
  },
  {
   "cell_type": "code",
   "execution_count": null,
   "id": "fa579ce8-cf94-4658-8503-650791d7afde",
   "metadata": {},
   "outputs": [],
   "source": [
    "time_df.head(3)"
   ]
  },
  {
   "cell_type": "code",
   "execution_count": 2,
   "id": "375a1c1d-4e4f-442b-afac-d694e083c465",
   "metadata": {},
   "outputs": [
    {
     "name": "stdout",
     "output_type": "stream",
     "text": [
      "0.7909 ± 0.1027 (diff_time)\n",
      "14.9253 ± 7.7814 (subgraphX_time)\n",
      "54.7044 ± 34.6771 (molgraph_time)\n"
     ]
    }
   ],
   "source": [
    "print(\"{:.4f} ± {:.4f} (diff_time)\".format(time_df[\"diff_time\"].mean(), time_df[\"diff_time\"].std()))\n",
    "print(\"{:.4f} ± {:.4f} (subgraphX_time)\".format(time_df[\"subgraphX_time\"].mean(), time_df[\"subgraphX_time\"].std()))\n",
    "print(\"{:.4f} ± {:.4f} (molgraph_time)\".format(time_df[\"molgraph_time\"].mean(), time_df[\"molgraph_time\"].std()))"
   ]
  },
  {
   "cell_type": "code",
   "execution_count": 3,
   "id": "50cadc70-efe2-4a93-b020-be1dc4cc8364",
   "metadata": {},
   "outputs": [],
   "source": [
    "def get_molecular_weight(smiles):\n",
    "    mol = Chem.MolFromSmiles(smiles)\n",
    "    if mol is None:\n",
    "        return None\n",
    "    weight = Descriptors.MolWt(mol)\n",
    "    return weight\n",
    "\n",
    "time_df[\"weight\"] = time_df[\"smiles\"].apply(get_molecular_weight)\n",
    "time_df[\"rounded_weight\"] = time_df[\"weight\"].apply(lambda mass: round(mass, -1))"
   ]
  },
  {
   "cell_type": "code",
   "execution_count": 4,
   "id": "e52d68db-2327-40f2-a361-41748b61aa56",
   "metadata": {},
   "outputs": [
    {
     "data": {
      "text/html": [
       "<div>\n",
       "<style scoped>\n",
       "    .dataframe tbody tr th:only-of-type {\n",
       "        vertical-align: middle;\n",
       "    }\n",
       "\n",
       "    .dataframe tbody tr th {\n",
       "        vertical-align: top;\n",
       "    }\n",
       "\n",
       "    .dataframe thead th {\n",
       "        text-align: right;\n",
       "    }\n",
       "</style>\n",
       "<table border=\"1\" class=\"dataframe\">\n",
       "  <thead>\n",
       "    <tr style=\"text-align: right;\">\n",
       "      <th></th>\n",
       "      <th>smiles</th>\n",
       "      <th>diff_time</th>\n",
       "      <th>subgraphX_time</th>\n",
       "      <th>molgraph_time</th>\n",
       "      <th>weight</th>\n",
       "    </tr>\n",
       "  </thead>\n",
       "  <tbody>\n",
       "    <tr>\n",
       "      <th>0</th>\n",
       "      <td>CCC1(C)OCOC1=N</td>\n",
       "      <td>1.603419</td>\n",
       "      <td>9.283341</td>\n",
       "      <td>86.006832</td>\n",
       "      <td>129.159</td>\n",
       "    </tr>\n",
       "    <tr>\n",
       "      <th>1</th>\n",
       "      <td>Cc1ccc(=N)oc1F</td>\n",
       "      <td>0.795363</td>\n",
       "      <td>22.453839</td>\n",
       "      <td>68.853090</td>\n",
       "      <td>127.118</td>\n",
       "    </tr>\n",
       "    <tr>\n",
       "      <th>2</th>\n",
       "      <td>CC1C2CC3CC3C12</td>\n",
       "      <td>0.559640</td>\n",
       "      <td>5.640463</td>\n",
       "      <td>48.610227</td>\n",
       "      <td>108.184</td>\n",
       "    </tr>\n",
       "    <tr>\n",
       "      <th>3</th>\n",
       "      <td>Cc1ccncn1</td>\n",
       "      <td>0.601495</td>\n",
       "      <td>8.937021</td>\n",
       "      <td>21.520368</td>\n",
       "      <td>94.117</td>\n",
       "    </tr>\n",
       "    <tr>\n",
       "      <th>4</th>\n",
       "      <td>C#CC1(CCC)CC1C</td>\n",
       "      <td>0.812488</td>\n",
       "      <td>7.486056</td>\n",
       "      <td>53.940720</td>\n",
       "      <td>122.211</td>\n",
       "    </tr>\n",
       "    <tr>\n",
       "      <th>...</th>\n",
       "      <td>...</td>\n",
       "      <td>...</td>\n",
       "      <td>...</td>\n",
       "      <td>...</td>\n",
       "      <td>...</td>\n",
       "    </tr>\n",
       "    <tr>\n",
       "      <th>96</th>\n",
       "      <td>CC1CN2C(=O)NCC12</td>\n",
       "      <td>0.817645</td>\n",
       "      <td>27.437932</td>\n",
       "      <td>89.026837</td>\n",
       "      <td>126.159</td>\n",
       "    </tr>\n",
       "    <tr>\n",
       "      <th>97</th>\n",
       "      <td>C#Cc1c(C)noc1N</td>\n",
       "      <td>0.797627</td>\n",
       "      <td>22.204591</td>\n",
       "      <td>73.936715</td>\n",
       "      <td>122.127</td>\n",
       "    </tr>\n",
       "    <tr>\n",
       "      <th>98</th>\n",
       "      <td>OCC1NC12COC2</td>\n",
       "      <td>0.757053</td>\n",
       "      <td>7.080355</td>\n",
       "      <td>15.435908</td>\n",
       "      <td>115.132</td>\n",
       "    </tr>\n",
       "    <tr>\n",
       "      <th>99</th>\n",
       "      <td>O=C1C2COC13CCC23</td>\n",
       "      <td>0.843380</td>\n",
       "      <td>35.287477</td>\n",
       "      <td>132.896077</td>\n",
       "      <td>124.139</td>\n",
       "    </tr>\n",
       "    <tr>\n",
       "      <th>100</th>\n",
       "      <td>CC1C2CC3(C)CC3C12</td>\n",
       "      <td>0.838272</td>\n",
       "      <td>8.305497</td>\n",
       "      <td>95.591999</td>\n",
       "      <td>122.211</td>\n",
       "    </tr>\n",
       "  </tbody>\n",
       "</table>\n",
       "<p>101 rows × 5 columns</p>\n",
       "</div>"
      ],
      "text/plain": [
       "                smiles  diff_time  subgraphX_time  molgraph_time   weight\n",
       "0       CCC1(C)OCOC1=N   1.603419        9.283341      86.006832  129.159\n",
       "1       Cc1ccc(=N)oc1F   0.795363       22.453839      68.853090  127.118\n",
       "2       CC1C2CC3CC3C12   0.559640        5.640463      48.610227  108.184\n",
       "3            Cc1ccncn1   0.601495        8.937021      21.520368   94.117\n",
       "4       C#CC1(CCC)CC1C   0.812488        7.486056      53.940720  122.211\n",
       "..                 ...        ...             ...            ...      ...\n",
       "96    CC1CN2C(=O)NCC12   0.817645       27.437932      89.026837  126.159\n",
       "97      C#Cc1c(C)noc1N   0.797627       22.204591      73.936715  122.127\n",
       "98        OCC1NC12COC2   0.757053        7.080355      15.435908  115.132\n",
       "99    O=C1C2COC13CCC23   0.843380       35.287477     132.896077  124.139\n",
       "100  CC1C2CC3(C)CC3C12   0.838272        8.305497      95.591999  122.211\n",
       "\n",
       "[101 rows x 5 columns]"
      ]
     },
     "execution_count": 4,
     "metadata": {},
     "output_type": "execute_result"
    }
   ],
   "source": [
    "time_df.head(3)"
   ]
  },
  {
   "cell_type": "code",
   "execution_count": 6,
   "id": "6c050ee0-7e50-480d-a6f7-7be489346854",
   "metadata": {},
   "outputs": [
    {
     "data": {
      "text/plain": [
       "<matplotlib.legend.Legend at 0x7f4d29fe6f20>"
      ]
     },
     "execution_count": 6,
     "metadata": {},
     "output_type": "execute_result"
    },
    {
     "data": {
      "image/png": "[encoded data removed]",
      "text/plain": [
       "<Figure size 700x500 with 1 Axes>"
      ]
     },
     "metadata": {},
     "output_type": "display_data"
    }
   ],
   "source": [
    "weights = list(sorted(time_df[\"rounded_weight\"].unique().tolist()))\n",
    "methods = [\"subgraphX\", \"submoleculeX\", \"molgraph\", \"molgraphX\"]\n",
    "\n",
    "for method in methods:\n",
    "    time_mean = []; time_std = []\n",
    "    for weight in weights:\n",
    "        time = time_df[time_df[\"rounded_weight\"] == weight][method].to_numpy()\n",
    "        time_mean += [time.mean()]\n",
    "        time_std += [time.std()]\n",
    "    plt.errorbar(weights, time_mean, yerr=time_std, label=method)\n",
    "plt.xlabel(\"Rounded molar mass (g/mol)\")\n",
    "plt.ylabel(\"Computational time (s)\")\n",
    "plt.legend()"
   ]
  },
  {
   "cell_type": "code",
   "execution_count": null,
   "id": "2e4cdb44-e72a-450e-8135-90f8727120c6",
   "metadata": {},
   "outputs": [],
   "source": []
  }
 ],
 "metadata": {
  "kernelspec": {
   "display_name": "molgraphx",
   "language": "python",
   "name": "molgraphx"
  },
  "language_info": {
   "codemirror_mode": {
    "name": "ipython",
    "version": 3
   },
   "file_extension": ".py",
   "mimetype": "text/x-python",
   "name": "python",
   "nbconvert_exporter": "python",
   "pygments_lexer": "ipython3",
   "version": "3.9.7"
  }
 },
 "nbformat": 4,
 "nbformat_minor": 5
}
